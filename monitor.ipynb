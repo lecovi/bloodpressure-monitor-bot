{
 "cells": [
  {
   "cell_type": "code",
   "execution_count": 1,
   "id": "b642b0e9-f859-4584-beea-5336014fefa4",
   "metadata": {},
   "outputs": [],
   "source": [
    "%load_ext autoreload\n",
    "%autoreload 2"
   ]
  },
  {
   "cell_type": "markdown",
   "id": "6147c949-b2e1-442b-a139-e5da7542b202",
   "metadata": {},
   "source": [
    "# Después de haber creado las credenciales de la Service Account\n",
    "\n",
    "- Construir el servicio"
   ]
  },
  {
   "cell_type": "code",
   "execution_count": 41,
   "id": "01872b5b-1d39-4c6f-969c-f481d12b0636",
   "metadata": {},
   "outputs": [
    {
     "name": "stdout",
     "output_type": "stream",
     "text": [
      "[['2022-09-24 14:15:33', '127', '67', '84'], ['2022-07-02 17:13:52', '122', '66', '67'], ['2022-07-02 17:58:40', '123', '45', '54'], ['2022-07-02 20:59:08', '111', '22'], ['2022-07-02 21:00:33', '123', '56', '78'], ['2022-07-02 21:00:41', '456', '21'], ['2022-07-02 21:03:08', '123', '12', 'N/A'], ['2022-07-02 21:09:07', '111', '22', '33'], ['2022-07-03 15:24:43', '123', '67', '89'], ['2022-07-03 15:24:54', '140', '23', '56'], ['2022-07-03 15:24:54', '123', '89', '76'], ['2022-07-03 15:26:04', '145', '56', 'N/A'], ['2022-07-03 15:26:20', '167', '78', '77'], ['2022-07-03 15:27:21', '123', '78', '56'], ['2022-07-04 0:32:53', '123', '78', 'N/A'], ['2022-07-04 0:33:03', '145', '67', 'N/A'], ['2022-07-04 0:33:04', '155', '67', '78'], ['2022-07-04 0:33:45', '167', '78', '66'], ['2022-07-04 0:45:31', '188', '90', '45'], ['2022-07-04 0:46:49', '145', '89', 'N/A'], ['2022-07-04 0:47:00', '345', '33', '77'], ['2022-07-04 0:47:17', '231', '67', 'N/A'], ['2022-07-04 1:05:05', '123', '67', '21'], ['2022-07-04 1:07:12', '356', '78', '56'], ['2022-07-04 1:55:35', '123', '45', '67'], ['2022-07-04 1:56:07', '568', '67', 'N/A'], ['2022-07-04 2:09:29', '123', '45', '67'], ['2022-07-04 2:11:35', '123', '45', '67'], ['2022-07-04 2:13:27', '234', '78', 'N/A'], ['2022-07-04 2:13:59', '124', '66', '55'], ['2022-07-04 12:45:26', '124', '56', '77'], ['2022-07-04 12:45:41', '145', '78', 'N/A'], ['2022-07-07 12:05:49', '123', '45', '76'], ['2022-09-24 14:15:33', '127', '67', '84'], ['2022-09-24 14:15:33', '127', '67', '84'], ['2022-09-24 14:35:23', '133', '78', '80'], ['2022-09-24 14:43:59', '133', '78', '81'], ['2022-09-24 14:49:18', '133', '78', '82'], ['2022-09-24 14:50:35', '133', '78', '82'], ['2022-09-24 14:52:09', '133', '78', '82'], ['2022-09-24 14:53:02', '133', '78', '83'], ['2022-09-24 14:56:59', '133', '78', '83'], ['2022-09-24 14:58:00', '133', '78', '85'], ['2022-09-24 15:00:03', '133', '78', '86'], ['2022-09-24 15:01:05', '133', '78', '86'], ['2022-09-24 15:02:02', '133', '78', '89'], ['2022-09-24 18:10:44', '123', '45', '78'], ['2022-09-24 18:16:26', '123', '56', '88'], ['2022-09-24 18:17:05', '123', '56', '89'], ['2022-09-24 18:20:59', '123', '45', 'N/A'], ['2022-09-24 18:21:29', '123', '45', '78'], ['2022-09-24 18:21:36', '123', '45', '89'], ['2022-09-24 18:25:40', '123', '56', '77'], ['2022-09-24 18:26:14', '125', '56', '78']]\n",
      "54\n"
     ]
    }
   ],
   "source": [
    "from googleapiclient.discovery import build\n",
    "from google.oauth2 import service_account\n",
    "from google.auth.transport.requests import Request\n",
    "\n",
    "# Spreadheet URL: https://docs.google.com/spreadsheets/d/1sm9MEHX6cC2lpgAX4kADyV_K0AYl4rpSi6SmcUdrnGU/edit#gid=0\n",
    "SCOPES = ['https://www.googleapis.com/auth/spreadsheets']\n",
    "SERVICE_ACCOUNT_FILE = 'credentials/primera.json'\n",
    "SAMPLE_SPREADSHEET_ID = '1sm9MEHX6cC2lpgAX4kADyV_K0AYl4rpSi6SmcUdrnGU'\n",
    "RANGE = 'Hoja 1!A1:D1000'\n",
    "\n",
    "credentials = service_account.Credentials.from_service_account_file(\n",
    "        SERVICE_ACCOUNT_FILE, scopes=SCOPES)\n",
    "\n",
    "# SUBJECT = 'colomboleandro@gmail.com'\n",
    "# delegated_creds = credentials.with_subject(SUBJECT)\n",
    "# service = build('sheets', 'v4', credentials=delegated_creds)\n",
    "\n",
    "service = build('sheets', 'v4', credentials=credentials)\n",
    "\n",
    "# Call the Sheets API\n",
    "sheet = service.spreadsheets()\n",
    "result = sheet.values().get(spreadsheetId=SAMPLE_SPREADSHEET_ID, range=RANGE).execute()\n",
    "values = result.get('values', [])\n",
    "print(values)\n",
    "print(len(values))"
   ]
  },
  {
   "cell_type": "code",
   "execution_count": 43,
   "id": "c507c815-e0d1-4415-8762-03b949ca80a1",
   "metadata": {},
   "outputs": [
    {
     "data": {
      "text/plain": [
       "{'range': \"'Hoja 1'!A1:D1000\",\n",
       " 'majorDimension': 'ROWS',\n",
       " 'values': [['2022-09-24 14:15:33', '127', '67', '84'],\n",
       "  ['2022-07-02 17:13:52', '122', '66', '67'],\n",
       "  ['2022-07-02 17:58:40', '123', '45', '54'],\n",
       "  ['2022-07-02 20:59:08', '111', '22'],\n",
       "  ['2022-07-02 21:00:33', '123', '56', '78'],\n",
       "  ['2022-07-02 21:00:41', '456', '21'],\n",
       "  ['2022-07-02 21:03:08', '123', '12', 'N/A'],\n",
       "  ['2022-07-02 21:09:07', '111', '22', '33'],\n",
       "  ['2022-07-03 15:24:43', '123', '67', '89'],\n",
       "  ['2022-07-03 15:24:54', '140', '23', '56'],\n",
       "  ['2022-07-03 15:24:54', '123', '89', '76'],\n",
       "  ['2022-07-03 15:26:04', '145', '56', 'N/A'],\n",
       "  ['2022-07-03 15:26:20', '167', '78', '77'],\n",
       "  ['2022-07-03 15:27:21', '123', '78', '56'],\n",
       "  ['2022-07-04 0:32:53', '123', '78', 'N/A'],\n",
       "  ['2022-07-04 0:33:03', '145', '67', 'N/A'],\n",
       "  ['2022-07-04 0:33:04', '155', '67', '78'],\n",
       "  ['2022-07-04 0:33:45', '167', '78', '66'],\n",
       "  ['2022-07-04 0:45:31', '188', '90', '45'],\n",
       "  ['2022-07-04 0:46:49', '145', '89', 'N/A'],\n",
       "  ['2022-07-04 0:47:00', '345', '33', '77'],\n",
       "  ['2022-07-04 0:47:17', '231', '67', 'N/A'],\n",
       "  ['2022-07-04 1:05:05', '123', '67', '21'],\n",
       "  ['2022-07-04 1:07:12', '356', '78', '56'],\n",
       "  ['2022-07-04 1:55:35', '123', '45', '67'],\n",
       "  ['2022-07-04 1:56:07', '568', '67', 'N/A'],\n",
       "  ['2022-07-04 2:09:29', '123', '45', '67'],\n",
       "  ['2022-07-04 2:11:35', '123', '45', '67'],\n",
       "  ['2022-07-04 2:13:27', '234', '78', 'N/A'],\n",
       "  ['2022-07-04 2:13:59', '124', '66', '55'],\n",
       "  ['2022-07-04 12:45:26', '124', '56', '77'],\n",
       "  ['2022-07-04 12:45:41', '145', '78', 'N/A'],\n",
       "  ['2022-07-07 12:05:49', '123', '45', '76'],\n",
       "  ['2022-09-24 14:15:33', '127', '67', '84'],\n",
       "  ['2022-09-24 14:15:33', '127', '67', '84'],\n",
       "  ['2022-09-24 14:35:23', '133', '78', '80'],\n",
       "  ['2022-09-24 14:43:59', '133', '78', '81'],\n",
       "  ['2022-09-24 14:49:18', '133', '78', '82'],\n",
       "  ['2022-09-24 14:50:35', '133', '78', '82'],\n",
       "  ['2022-09-24 14:52:09', '133', '78', '82'],\n",
       "  ['2022-09-24 14:53:02', '133', '78', '83'],\n",
       "  ['2022-09-24 14:56:59', '133', '78', '83'],\n",
       "  ['2022-09-24 14:58:00', '133', '78', '85'],\n",
       "  ['2022-09-24 15:00:03', '133', '78', '86'],\n",
       "  ['2022-09-24 15:01:05', '133', '78', '86'],\n",
       "  ['2022-09-24 15:02:02', '133', '78', '89'],\n",
       "  ['2022-09-24 18:10:44', '123', '45', '78'],\n",
       "  ['2022-09-24 18:16:26', '123', '56', '88'],\n",
       "  ['2022-09-24 18:17:05', '123', '56', '89'],\n",
       "  ['2022-09-24 18:20:59', '123', '45', 'N/A'],\n",
       "  ['2022-09-24 18:21:29', '123', '45', '78'],\n",
       "  ['2022-09-24 18:21:36', '123', '45', '89'],\n",
       "  ['2022-09-24 18:25:40', '123', '56', '77'],\n",
       "  ['2022-09-24 18:26:14', '125', '56', '78']]}"
      ]
     },
     "execution_count": 43,
     "metadata": {},
     "output_type": "execute_result"
    }
   ],
   "source": [
    "result = sheet.values().get(spreadsheetId=SAMPLE_SPREADSHEET_ID, range=RANGE).execute()\n",
    "result"
   ]
  },
  {
   "cell_type": "code",
   "execution_count": 2,
   "id": "ff495813-3671-4260-8a62-73f6baea64e4",
   "metadata": {},
   "outputs": [],
   "source": [
    "from datetime import datetime\n",
    "\n",
    "now = datetime.now().isoformat()\n",
    "\n",
    "range_name = \"A1:D1\"\n",
    "values = [\n",
    "    [\n",
    "        now,\n",
    "        127,\n",
    "        67,\n",
    "        84,  \n",
    "    ],\n",
    "]\n",
    "body = {\n",
    "    \"values\": values\n",
    "}\n",
    "value_input_option = \"USER_ENTERED\""
   ]
  },
  {
   "cell_type": "code",
   "execution_count": 3,
   "id": "5b95eeec-0a39-406d-966f-59033079486d",
   "metadata": {},
   "outputs": [],
   "source": [
    "result = service.spreadsheets().values().update(\n",
    "    spreadsheetId=SAMPLE_SPREADSHEET_ID, range=range_name,\n",
    "    valueInputOption=value_input_option, body=body\n",
    ").execute()"
   ]
  },
  {
   "cell_type": "code",
   "execution_count": 5,
   "id": "0a7b862f-a472-4ee2-8c20-0ee4ad9bd5b5",
   "metadata": {},
   "outputs": [
    {
     "name": "stdout",
     "output_type": "stream",
     "text": [
      "[['2022-09-24 14:15:33', '127', '67', '84'], ['2022-07-02 17:13:52', '122', '66', '67'], ['2022-07-02 17:58:40', '123', '45', '54'], ['2022-07-02 20:59:08', '111', '22'], ['2022-07-02 21:00:33', '123', '56', '78'], ['2022-07-02 21:00:41', '456', '21'], ['2022-07-02 21:03:08', '123', '12', 'N/A'], ['2022-07-02 21:09:07', '111', '22', '33'], ['2022-07-03 15:24:43', '123', '67', '89'], ['2022-07-03 15:24:54', '140', '23', '56'], ['2022-07-03 15:24:54', '123', '89', '76'], ['2022-07-03 15:26:04', '145', '56', 'N/A'], ['2022-07-03 15:26:20', '167', '78', '77'], ['2022-07-03 15:27:21', '123', '78', '56'], ['2022-07-04 0:32:53', '123', '78', 'N/A'], ['2022-07-04 0:33:03', '145', '67', 'N/A'], ['2022-07-04 0:33:04', '155', '67', '78'], ['2022-07-04 0:33:45', '167', '78', '66'], ['2022-07-04 0:45:31', '188', '90', '45'], ['2022-07-04 0:46:49', '145', '89', 'N/A'], ['2022-07-04 0:47:00', '345', '33', '77'], ['2022-07-04 0:47:17', '231', '67', 'N/A'], ['2022-07-04 1:05:05', '123', '67', '21'], ['2022-07-04 1:07:12', '356', '78', '56'], ['2022-07-04 1:55:35', '123', '45', '67'], ['2022-07-04 1:56:07', '568', '67', 'N/A'], ['2022-07-04 2:09:29', '123', '45', '67'], ['2022-07-04 2:11:35', '123', '45', '67'], ['2022-07-04 2:13:27', '234', '78', 'N/A'], ['2022-07-04 2:13:59', '124', '66', '55'], ['2022-07-04 12:45:26', '124', '56', '77'], ['2022-07-04 12:45:41', '145', '78', 'N/A'], ['2022-07-07 12:05:49', '123', '45', '76'], ['2022-09-24 14:15:33', '127', '67', '84']]\n"
     ]
    }
   ],
   "source": [
    "result = sheet.values().get(spreadsheetId=SAMPLE_SPREADSHEET_ID, range=RANGE).execute()\n",
    "values = result.get('values', [])\n",
    "print(values)"
   ]
  },
  {
   "cell_type": "code",
   "execution_count": 7,
   "id": "678caf50-33e3-43d5-8def-e8ac382cd67c",
   "metadata": {},
   "outputs": [],
   "source": [
    "result = service.spreadsheets().values().append(\n",
    "    spreadsheetId=SAMPLE_SPREADSHEET_ID, range=range_name,\n",
    "    valueInputOption=value_input_option, body=body\n",
    ").execute()"
   ]
  },
  {
   "cell_type": "code",
   "execution_count": 8,
   "id": "06be68f5-cfb0-466c-b71a-757fd8c27675",
   "metadata": {},
   "outputs": [
    {
     "name": "stdout",
     "output_type": "stream",
     "text": [
      "[['2022-09-24 14:15:33', '127', '67', '84'], ['2022-07-02 17:13:52', '122', '66', '67'], ['2022-07-02 17:58:40', '123', '45', '54'], ['2022-07-02 20:59:08', '111', '22'], ['2022-07-02 21:00:33', '123', '56', '78'], ['2022-07-02 21:00:41', '456', '21'], ['2022-07-02 21:03:08', '123', '12', 'N/A'], ['2022-07-02 21:09:07', '111', '22', '33'], ['2022-07-03 15:24:43', '123', '67', '89'], ['2022-07-03 15:24:54', '140', '23', '56'], ['2022-07-03 15:24:54', '123', '89', '76'], ['2022-07-03 15:26:04', '145', '56', 'N/A'], ['2022-07-03 15:26:20', '167', '78', '77'], ['2022-07-03 15:27:21', '123', '78', '56'], ['2022-07-04 0:32:53', '123', '78', 'N/A'], ['2022-07-04 0:33:03', '145', '67', 'N/A'], ['2022-07-04 0:33:04', '155', '67', '78'], ['2022-07-04 0:33:45', '167', '78', '66'], ['2022-07-04 0:45:31', '188', '90', '45'], ['2022-07-04 0:46:49', '145', '89', 'N/A'], ['2022-07-04 0:47:00', '345', '33', '77'], ['2022-07-04 0:47:17', '231', '67', 'N/A'], ['2022-07-04 1:05:05', '123', '67', '21'], ['2022-07-04 1:07:12', '356', '78', '56'], ['2022-07-04 1:55:35', '123', '45', '67'], ['2022-07-04 1:56:07', '568', '67', 'N/A'], ['2022-07-04 2:09:29', '123', '45', '67'], ['2022-07-04 2:11:35', '123', '45', '67'], ['2022-07-04 2:13:27', '234', '78', 'N/A'], ['2022-07-04 2:13:59', '124', '66', '55'], ['2022-07-04 12:45:26', '124', '56', '77'], ['2022-07-04 12:45:41', '145', '78', 'N/A'], ['2022-07-07 12:05:49', '123', '45', '76'], ['2022-09-24 14:15:33', '127', '67', '84'], ['2022-09-24 14:15:33', '127', '67', '84']]\n"
     ]
    }
   ],
   "source": [
    "result = sheet.values().get(spreadsheetId=SAMPLE_SPREADSHEET_ID, range=RANGE).execute()\n",
    "values = result.get('values', [])\n",
    "print(values)"
   ]
  },
  {
   "cell_type": "code",
   "execution_count": 16,
   "id": "6cc6706a-7b78-4c45-ab7a-f46e6a4d6bd8",
   "metadata": {},
   "outputs": [],
   "source": [
    "message = \"130/86\""
   ]
  },
  {
   "cell_type": "code",
   "execution_count": 17,
   "id": "807629ef-215b-44ea-90f0-44ecd445a9a5",
   "metadata": {},
   "outputs": [
    {
     "data": {
      "text/plain": [
       "['130', '86']"
      ]
     },
     "execution_count": 17,
     "metadata": {},
     "output_type": "execute_result"
    }
   ],
   "source": [
    "message.split(\"/\")"
   ]
  },
  {
   "cell_type": "code",
   "execution_count": 18,
   "id": "b155e37e-4714-4b42-a096-e51b3db1e8d9",
   "metadata": {},
   "outputs": [],
   "source": [
    "message = \"132/87 77\""
   ]
  },
  {
   "cell_type": "code",
   "execution_count": 20,
   "id": "53fe69a5-f486-499d-b609-bb31819583cc",
   "metadata": {},
   "outputs": [
    {
     "data": {
      "text/plain": [
       "['132/87', '77']"
      ]
     },
     "execution_count": 20,
     "metadata": {},
     "output_type": "execute_result"
    }
   ],
   "source": [
    "message.split()\n"
   ]
  },
  {
   "cell_type": "code",
   "execution_count": 21,
   "id": "09087658-cf7a-4ee8-bd03-f557368d22c3",
   "metadata": {},
   "outputs": [],
   "source": [
    "import re\n",
    "\n",
    "REGEX_PATTERN = \"(\\d{3})\\/(\\d{2,3})( (\\d{2,3}))?\""
   ]
  },
  {
   "cell_type": "code",
   "execution_count": 22,
   "id": "68df7380-9627-49b8-ab14-9e2d4b5b129d",
   "metadata": {},
   "outputs": [
    {
     "data": {
      "text/plain": [
       "<re.Match object; span=(0, 9), match='132/87 77'>"
      ]
     },
     "execution_count": 22,
     "metadata": {},
     "output_type": "execute_result"
    }
   ],
   "source": [
    "re.match(REGEX_PATTERN, message)"
   ]
  },
  {
   "cell_type": "code",
   "execution_count": 24,
   "id": "e17f81fe-79d5-4eb5-bdd5-b8aed68dd3ce",
   "metadata": {},
   "outputs": [
    {
     "data": {
      "text/plain": [
       "{'spreadsheetId': '1sm9MEHX6cC2lpgAX4kADyV_K0AYl4rpSi6SmcUdrnGU',\n",
       " 'tableRange': \"'Hoja 1'!A1:D7\",\n",
       " 'updates': {'spreadsheetId': '1sm9MEHX6cC2lpgAX4kADyV_K0AYl4rpSi6SmcUdrnGU',\n",
       "  'updatedRange': \"'Hoja 1'!A8:D8\",\n",
       "  'updatedRows': 1,\n",
       "  'updatedColumns': 4,\n",
       "  'updatedCells': 4}}"
      ]
     },
     "execution_count": 24,
     "metadata": {},
     "output_type": "execute_result"
    }
   ],
   "source": [
    "result"
   ]
  },
  {
   "cell_type": "code",
   "execution_count": 32,
   "id": "eb1bcc8f-c3e8-47f4-8550-17da6747ffcd",
   "metadata": {},
   "outputs": [],
   "source": [
    "from bloodpressure_monitor_bot.gapi.helpers import BloodPressureGoogleSheet\n",
    "\n",
    "sheet = BloodPressureGoogleSheet(service_account_file='credentials/primera.json')\n",
    "sheet.add_record(133, 78, 89)"
   ]
  },
  {
   "cell_type": "code",
   "execution_count": 28,
   "id": "20fcdeb2-2df2-4890-929e-0bad3d5a88b6",
   "metadata": {},
   "outputs": [
    {
     "data": {
      "text/plain": [
       "{'spreadsheetId': '1sm9MEHX6cC2lpgAX4kADyV_K0AYl4rpSi6SmcUdrnGU',\n",
       " 'tableRange': \"'Hoja 1'!A1:D44\",\n",
       " 'updates': {'spreadsheetId': '1sm9MEHX6cC2lpgAX4kADyV_K0AYl4rpSi6SmcUdrnGU',\n",
       "  'updatedRange': \"'Hoja 1'!A45:D45\",\n",
       "  'updatedRows': 1,\n",
       "  'updatedColumns': 4,\n",
       "  'updatedCells': 4}}"
      ]
     },
     "execution_count": 28,
     "metadata": {},
     "output_type": "execute_result"
    }
   ],
   "source": [
    "sheet._last_append_result"
   ]
  },
  {
   "cell_type": "code",
   "execution_count": 35,
   "id": "510d80af-20ae-4b41-82b0-378ecb8fa9be",
   "metadata": {},
   "outputs": [
    {
     "data": {
      "text/plain": [
       "46"
      ]
     },
     "execution_count": 35,
     "metadata": {},
     "output_type": "execute_result"
    }
   ],
   "source": [
    "len(sheet.get_records())"
   ]
  },
  {
   "cell_type": "code",
   "execution_count": 30,
   "id": "f534b9d4-b40d-41cc-9eff-852fd02cde6a",
   "metadata": {},
   "outputs": [
    {
     "data": {
      "text/plain": [
       "{'spreadsheetId': '1sm9MEHX6cC2lpgAX4kADyV_K0AYl4rpSi6SmcUdrnGU',\n",
       " 'tableRange': \"'Hoja 1'!A1:D44\",\n",
       " 'updates': {'spreadsheetId': '1sm9MEHX6cC2lpgAX4kADyV_K0AYl4rpSi6SmcUdrnGU',\n",
       "  'updatedRange': \"'Hoja 1'!A45:D45\",\n",
       "  'updatedRows': 1,\n",
       "  'updatedColumns': 4,\n",
       "  'updatedCells': 4}}"
      ]
     },
     "execution_count": 30,
     "metadata": {},
     "output_type": "execute_result"
    }
   ],
   "source": [
    "sheet._last_append_result"
   ]
  },
  {
   "cell_type": "code",
   "execution_count": 37,
   "id": "2c9e1b60-1b6a-4b11-832f-b8d28b6dc2cc",
   "metadata": {},
   "outputs": [
    {
     "data": {
      "text/plain": [
       "['2022-09-24 15:02:02', '133', '78', '89']"
      ]
     },
     "execution_count": 37,
     "metadata": {},
     "output_type": "execute_result"
    }
   ],
   "source": [
    "sheet.get_last_record()"
   ]
  },
  {
   "cell_type": "code",
   "execution_count": 17,
   "id": "3bd97ae7-3e10-4c5d-88ef-a69c381b5066",
   "metadata": {},
   "outputs": [],
   "source": [
    "range_ = \"'Hoja 1'!A8:D8\""
   ]
  },
  {
   "cell_type": "code",
   "execution_count": 19,
   "id": "26fa443b-a9ac-4690-9ca0-07a116f38cc3",
   "metadata": {},
   "outputs": [
    {
     "data": {
      "text/plain": [
       "'A8:D8'"
      ]
     },
     "execution_count": 19,
     "metadata": {},
     "output_type": "execute_result"
    }
   ],
   "source": [
    "range_.split(\"!\")[1]"
   ]
  },
  {
   "cell_type": "code",
   "execution_count": 38,
   "id": "f89e792a-0ecd-4911-8ce9-f33c0bf575a6",
   "metadata": {},
   "outputs": [],
   "source": [
    "t, s, d, h = sheet.get_last_record()"
   ]
  },
  {
   "cell_type": "code",
   "execution_count": 1,
   "id": "6f469dea-07c6-433a-97cf-5826efc71cd7",
   "metadata": {},
   "outputs": [
    {
     "data": {
      "text/plain": [
       "[['Date', 'SYS', 'DIA', 'HB'],\n",
       " ['2022-09-24 21:52:02', '123', '56', '78'],\n",
       " ['2022-09-24 21:52:19', '123', '56', '79'],\n",
       " ['2022-09-24 21:52:35', '123', '56', '80'],\n",
       " ['2022-09-24 21:52:53', '123', '56', '81'],\n",
       " ['2022-09-24 21:55:39', '123', '56', '82'],\n",
       " ['2022-09-24 21:55:42', '123', '56', '83'],\n",
       " ['2022-09-24 21:55:43', '123', '56', '84'],\n",
       " ['2022-09-24 21:55:45', '123', '56', '85'],\n",
       " ['2022-09-24 22:04:02', '123', '54', '88'],\n",
       " ['2022-09-25 13:44:37', '123', '55', '90'],\n",
       " ['2022-09-25 16:38:11', '123', '55', '91'],\n",
       " ['2022-09-25 16:40:01', '123', '55', '92'],\n",
       " ['2022-09-25 16:54:02', '123', '55', '93'],\n",
       " ['2022-09-25 14:08:43', '123', '55', '95']]"
      ]
     },
     "execution_count": 1,
     "metadata": {},
     "output_type": "execute_result"
    }
   ],
   "source": [
    "from bloodpressure_monitor_bot.gapi.helpers import BloodPressureGoogleSheet\n",
    "\n",
    "sheet = BloodPressureGoogleSheet(service_account_file='credentials/primera.json')\n",
    "sheet.get_records()"
   ]
  },
  {
   "cell_type": "code",
   "execution_count": 4,
   "id": "682af74a-a066-4098-901e-2aa355181af7",
   "metadata": {},
   "outputs": [
    {
     "data": {
      "text/plain": [
       "{'spreadsheetId': '1sm9MEHX6cC2lpgAX4kADyV_K0AYl4rpSi6SmcUdrnGU',\n",
       " 'tableRange': \"'Hoja 1'!A1:D15\",\n",
       " 'updates': {'spreadsheetId': '1sm9MEHX6cC2lpgAX4kADyV_K0AYl4rpSi6SmcUdrnGU',\n",
       "  'updatedRange': \"'Hoja 1'!A16:D16\",\n",
       "  'updatedRows': 1,\n",
       "  'updatedColumns': 4,\n",
       "  'updatedCells': 4},\n",
       " 'timestamp': '2022-09-25T14:15:32.453573'}"
      ]
     },
     "execution_count": 4,
     "metadata": {},
     "output_type": "execute_result"
    }
   ],
   "source": [
    "sheet._last_result"
   ]
  },
  {
   "cell_type": "code",
   "execution_count": 3,
   "id": "209dad99-5bc2-4c12-a6f5-605d1ee5fa65",
   "metadata": {},
   "outputs": [],
   "source": [
    "sheet.add_record(123, 55, 98)"
   ]
  },
  {
   "cell_type": "code",
   "execution_count": 5,
   "id": "4b337b26-0137-4a18-9620-0474a7897cf3",
   "metadata": {},
   "outputs": [],
   "source": [
    "class Test:\n",
    "    def __init__(self, id):\n",
    "        self.id = id\n",
    "        \n",
    "    @property\n",
    "    def url(self):\n",
    "        SPREADSHEET_URL_TEMPLATE = f\"https://docs.google.com/spreadsheets/d/{self.id}/edit#gid=0\"\n",
    "        return SPREADSHEET_URL_TEMPLATE"
   ]
  },
  {
   "cell_type": "code",
   "execution_count": 6,
   "id": "7004b7ab-ac00-48b1-9482-518195a4ea1d",
   "metadata": {},
   "outputs": [
    {
     "data": {
      "text/plain": [
       "'https://docs.google.com/spreadsheets/d/foo/edit#gid=0'"
      ]
     },
     "execution_count": 6,
     "metadata": {},
     "output_type": "execute_result"
    }
   ],
   "source": [
    "t = Test(\"foo\")\n",
    "t.url"
   ]
  },
  {
   "cell_type": "code",
   "execution_count": 7,
   "id": "24a9c9f0-364b-441a-878c-8f937222170b",
   "metadata": {},
   "outputs": [
    {
     "ename": "NameError",
     "evalue": "name 'self' is not defined",
     "output_type": "error",
     "traceback": [
      "\u001b[0;31m---------------------------------------------------------------------------\u001b[0m",
      "\u001b[0;31mNameError\u001b[0m                                 Traceback (most recent call last)",
      "Cell \u001b[0;32mIn [7], line 1\u001b[0m\n\u001b[0;32m----> 1\u001b[0m SPREADSHEET_URL_TEMPLATE \u001b[38;5;241m=\u001b[39m \u001b[38;5;124mf\u001b[39m\u001b[38;5;124m\"\u001b[39m\u001b[38;5;124mhttps://docs.google.com/spreadsheets/d/\u001b[39m\u001b[38;5;132;01m{\u001b[39;00m\u001b[38;5;28mself\u001b[39m\u001b[38;5;241m.\u001b[39mid\u001b[38;5;132;01m}\u001b[39;00m\u001b[38;5;124m/edit#gid=0\u001b[39m\u001b[38;5;124m\"\u001b[39m\n",
      "\u001b[0;31mNameError\u001b[0m: name 'self' is not defined"
     ]
    }
   ],
   "source": [
    "SPREADSHEET_URL_TEMPLATE = f\"https://docs.google.com/spreadsheets/d/{self.id}/edit#gid=0\""
   ]
  },
  {
   "cell_type": "markdown",
   "id": "41861721-f85c-4405-a9ff-f1cab73e3506",
   "metadata": {},
   "source": [
    "# Creating a Spreadsheet"
   ]
  },
  {
   "cell_type": "code",
   "execution_count": 16,
   "id": "f955eb1f-f93f-4024-a2bf-f451568df4c0",
   "metadata": {},
   "outputs": [],
   "source": [
    "from googleapiclient.discovery import build\n",
    "from google.oauth2 import service_account\n",
    "from google.auth.transport.requests import Request\n",
    "\n",
    "SCOPES = [\n",
    "    'https://www.googleapis.com/auth/spreadsheets',\n",
    "    'https://www.googleapis.com/auth/drive',\n",
    "]\n",
    "SERVICE_ACCOUNT_FILE = 'credentials/primera.json'\n",
    "FIRST_SPREADSHEET_ID = '1xwU0wAH0XQNeaB2tJMph50B6UGNwrDVvHV7NDIwzZX8'\n",
    "DEFAULT_RANGE = 'Sheet1!A1:D1000'\n",
    "\n",
    "credentials = service_account.Credentials.from_service_account_file(\n",
    "        SERVICE_ACCOUNT_FILE, scopes=SCOPES)\n",
    "\n",
    "sheets_service = build('sheets', 'v4', credentials=credentials)\n",
    "drive_service = build('drive', 'v3', credentials=credentials)\n",
    "\n",
    "sheet = sheets_service.spreadsheets()\n",
    "\n",
    "user_permission = {\n",
    "    'type': 'user',\n",
    "    'role': 'writer',\n",
    "    'emailAddress': 'colomboleandro@gmail.com'\n",
    "}"
   ]
  },
  {
   "cell_type": "code",
   "execution_count": 17,
   "id": "3c806305-5a04-4435-b361-32cc5b144805",
   "metadata": {},
   "outputs": [],
   "source": [
    "title = \"Example Spreadsheet Created from API v2\"\n",
    "spreadsheet = {\n",
    "            'properties': {\n",
    "                'title': title\n",
    "            }\n",
    "        }\n",
    "spreadsheet = sheet.create(\n",
    "    body=spreadsheet,\n",
    "    fields='spreadsheetId'\n",
    ").execute()"
   ]
  },
  {
   "cell_type": "code",
   "execution_count": 4,
   "id": "eab56ea4-5fbc-42f3-9607-b95cf023a47a",
   "metadata": {},
   "outputs": [
    {
     "data": {
      "text/plain": [
       "{'spreadsheetId': '1xwU0wAH0XQNeaB2tJMph50B6UGNwrDVvHV7NDIwzZX8'}"
      ]
     },
     "execution_count": 4,
     "metadata": {},
     "output_type": "execute_result"
    }
   ],
   "source": [
    "spreadsheet"
   ]
  },
  {
   "cell_type": "code",
   "execution_count": 5,
   "id": "a5196a9c-91fc-4618-a9b7-4dd2779cbeb3",
   "metadata": {},
   "outputs": [],
   "source": [
    "SPREADSHEET_URL_TEMPLATE = f\"https://docs.google.com/spreadsheets/d/{spreadsheet['spreadsheetId']}/edit#gid=0\""
   ]
  },
  {
   "cell_type": "code",
   "execution_count": 6,
   "id": "2ad65733-e55b-4774-8c5f-a12b795898d2",
   "metadata": {},
   "outputs": [
    {
     "data": {
      "text/plain": [
       "'https://docs.google.com/spreadsheets/d/1xwU0wAH0XQNeaB2tJMph50B6UGNwrDVvHV7NDIwzZX8/edit#gid=0'"
      ]
     },
     "execution_count": 6,
     "metadata": {},
     "output_type": "execute_result"
    }
   ],
   "source": [
    "SPREADSHEET_URL_TEMPLATE"
   ]
  },
  {
   "cell_type": "code",
   "execution_count": 19,
   "id": "b0d307b8-8d99-4bc6-ad12-08fb77f29880",
   "metadata": {},
   "outputs": [
    {
     "data": {
      "text/plain": [
       "{'id': '05079566875077738094'}"
      ]
     },
     "execution_count": 19,
     "metadata": {},
     "output_type": "execute_result"
    }
   ],
   "source": [
    "drive_service.permissions().create(\n",
    "    fileId=spreadsheet['spreadsheetId'],\n",
    "    body=user_permission,\n",
    "    fields='id',\n",
    ").execute()"
   ]
  },
  {
   "cell_type": "code",
   "execution_count": 18,
   "id": "2522322a-5497-4e66-a077-caf3774795ee",
   "metadata": {},
   "outputs": [
    {
     "name": "stdout",
     "output_type": "stream",
     "text": [
      "[]\n"
     ]
    }
   ],
   "source": [
    "result = sheet.values().get(spreadsheetId=spreadsheet['spreadsheetId'], range='Sheet1!A1:D1000').execute()\n",
    "values = result.get('values', [])\n",
    "print(values)"
   ]
  }
 ],
 "metadata": {
  "kernelspec": {
   "display_name": "Python 3 (ipykernel)",
   "language": "python",
   "name": "python3"
  },
  "language_info": {
   "codemirror_mode": {
    "name": "ipython",
    "version": 3
   },
   "file_extension": ".py",
   "mimetype": "text/x-python",
   "name": "python",
   "nbconvert_exporter": "python",
   "pygments_lexer": "ipython3",
   "version": "3.10.6"
  }
 },
 "nbformat": 4,
 "nbformat_minor": 5
}
