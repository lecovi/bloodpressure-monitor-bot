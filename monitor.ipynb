{
 "cells": [
  {
   "cell_type": "markdown",
   "id": "6147c949-b2e1-442b-a139-e5da7542b202",
   "metadata": {},
   "source": [
    "# Después de haber creado las credenciales de la Service Account\n",
    "\n",
    "- Construir el servicio"
   ]
  },
  {
   "cell_type": "code",
   "execution_count": 4,
   "id": "01872b5b-1d39-4c6f-969c-f481d12b0636",
   "metadata": {},
   "outputs": [
    {
     "name": "stdout",
     "output_type": "stream",
     "text": [
      "[['foo'], ['bar'], ['baz']]\n",
      "3\n"
     ]
    }
   ],
   "source": [
    "from googleapiclient.discovery import build\n",
    "from google.oauth2 import service_account\n",
    "from google.auth.transport.requests import Request\n",
    "\n",
    "# Spreadheet URL: https://docs.google.com/spreadsheets/d/1sm9MEHX6cC2lpgAX4kADyV_K0AYl4rpSi6SmcUdrnGU/edit#gid=0\n",
    "SCOPES = ['https://www.googleapis.com/auth/spreadsheets']\n",
    "SERVICE_ACCOUNT_FILE = 'credentials/primera.json'\n",
    "SAMPLE_SPREADSHEET_ID = '1sm9MEHX6cC2lpgAX4kADyV_K0AYl4rpSi6SmcUdrnGU'\n",
    "RANGE = 'Hoja 1!A1:D1000'\n",
    "\n",
    "credentials = service_account.Credentials.from_service_account_file(\n",
    "        SERVICE_ACCOUNT_FILE, scopes=SCOPES)\n",
    "\n",
    "# SUBJECT = 'colomboleandro@gmail.com'\n",
    "# delegated_creds = credentials.with_subject(SUBJECT)\n",
    "# service = build('sheets', 'v4', credentials=delegated_creds)\n",
    "\n",
    "service = build('sheets', 'v4', credentials=credentials)\n",
    "\n",
    "# Call the Sheets API\n",
    "sheet = service.spreadsheets()\n",
    "result = sheet.values().get(spreadsheetId=SAMPLE_SPREADSHEET_ID, range=RANGE).execute()\n",
    "values = result.get('values', [])\n",
    "print(values)\n",
    "print(len(values))"
   ]
  },
  {
   "cell_type": "code",
   "execution_count": 14,
   "id": "ff495813-3671-4260-8a62-73f6baea64e4",
   "metadata": {},
   "outputs": [],
   "source": [
    "from datetime import datetime\n",
    "\n",
    "now = datetime.now().isoformat()\n",
    "\n",
    "range_name = \"A1:D1\"\n",
    "values = [\n",
    "    [\n",
    "        now,\n",
    "        127,\n",
    "        67,\n",
    "        84,  \n",
    "    ],\n",
    "]\n",
    "body = {\n",
    "    \"values\": values\n",
    "}\n",
    "value_input_option = \"USER_ENTERED\""
   ]
  },
  {
   "cell_type": "code",
   "execution_count": 9,
   "id": "5b95eeec-0a39-406d-966f-59033079486d",
   "metadata": {},
   "outputs": [],
   "source": [
    "result = service.spreadsheets().values().update(\n",
    "    spreadsheetId=SAMPLE_SPREADSHEET_ID, range=range_name,\n",
    "    valueInputOption=value_input_option, body=body\n",
    ").execute()"
   ]
  },
  {
   "cell_type": "code",
   "execution_count": 23,
   "id": "678caf50-33e3-43d5-8def-e8ac382cd67c",
   "metadata": {},
   "outputs": [],
   "source": [
    "result = service.spreadsheets().values().append(\n",
    "    spreadsheetId=SAMPLE_SPREADSHEET_ID, range=range_name,\n",
    "    valueInputOption=value_input_option, body=body\n",
    ").execute()"
   ]
  },
  {
   "cell_type": "code",
   "execution_count": 16,
   "id": "6cc6706a-7b78-4c45-ab7a-f46e6a4d6bd8",
   "metadata": {},
   "outputs": [],
   "source": [
    "message = \"130/86\""
   ]
  },
  {
   "cell_type": "code",
   "execution_count": 17,
   "id": "807629ef-215b-44ea-90f0-44ecd445a9a5",
   "metadata": {},
   "outputs": [
    {
     "data": {
      "text/plain": [
       "['130', '86']"
      ]
     },
     "execution_count": 17,
     "metadata": {},
     "output_type": "execute_result"
    }
   ],
   "source": [
    "message.split(\"/\")"
   ]
  },
  {
   "cell_type": "code",
   "execution_count": 18,
   "id": "b155e37e-4714-4b42-a096-e51b3db1e8d9",
   "metadata": {},
   "outputs": [],
   "source": [
    "message = \"132/87 77\""
   ]
  },
  {
   "cell_type": "code",
   "execution_count": 20,
   "id": "53fe69a5-f486-499d-b609-bb31819583cc",
   "metadata": {},
   "outputs": [
    {
     "data": {
      "text/plain": [
       "['132/87', '77']"
      ]
     },
     "execution_count": 20,
     "metadata": {},
     "output_type": "execute_result"
    }
   ],
   "source": [
    "message.split()\n"
   ]
  },
  {
   "cell_type": "code",
   "execution_count": 21,
   "id": "09087658-cf7a-4ee8-bd03-f557368d22c3",
   "metadata": {},
   "outputs": [],
   "source": [
    "import re\n",
    "\n",
    "REGEX_PATTERN = \"(\\d{3})\\/(\\d{2,3})( (\\d{2,3}))?\""
   ]
  },
  {
   "cell_type": "code",
   "execution_count": 22,
   "id": "68df7380-9627-49b8-ab14-9e2d4b5b129d",
   "metadata": {},
   "outputs": [
    {
     "data": {
      "text/plain": [
       "<re.Match object; span=(0, 9), match='132/87 77'>"
      ]
     },
     "execution_count": 22,
     "metadata": {},
     "output_type": "execute_result"
    }
   ],
   "source": [
    "re.match(REGEX_PATTERN, message)"
   ]
  },
  {
   "cell_type": "code",
   "execution_count": 24,
   "id": "e17f81fe-79d5-4eb5-bdd5-b8aed68dd3ce",
   "metadata": {},
   "outputs": [
    {
     "data": {
      "text/plain": [
       "{'spreadsheetId': '1sm9MEHX6cC2lpgAX4kADyV_K0AYl4rpSi6SmcUdrnGU',\n",
       " 'tableRange': \"'Hoja 1'!A1:D7\",\n",
       " 'updates': {'spreadsheetId': '1sm9MEHX6cC2lpgAX4kADyV_K0AYl4rpSi6SmcUdrnGU',\n",
       "  'updatedRange': \"'Hoja 1'!A8:D8\",\n",
       "  'updatedRows': 1,\n",
       "  'updatedColumns': 4,\n",
       "  'updatedCells': 4}}"
      ]
     },
     "execution_count": 24,
     "metadata": {},
     "output_type": "execute_result"
    }
   ],
   "source": [
    "result"
   ]
  }
 ],
 "metadata": {
  "kernelspec": {
   "display_name": "Python 3 (ipykernel)",
   "language": "python",
   "name": "python3"
  },
  "language_info": {
   "codemirror_mode": {
    "name": "ipython",
    "version": 3
   },
   "file_extension": ".py",
   "mimetype": "text/x-python",
   "name": "python",
   "nbconvert_exporter": "python",
   "pygments_lexer": "ipython3",
   "version": "3.10.5"
  }
 },
 "nbformat": 4,
 "nbformat_minor": 5
}
